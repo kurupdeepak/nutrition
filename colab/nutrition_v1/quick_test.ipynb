{
 "cells": [
  {
   "cell_type": "code",
   "execution_count": 7,
   "metadata": {
    "collapsed": true
   },
   "outputs": [],
   "source": [
    "import pandas as pd\n",
    "\n",
    "from init_data import get_dish_data, cast_to_float\n",
    "from mypackage.utility import get_rgb_imagepath"
   ]
  },
  {
   "cell_type": "code",
   "execution_count": 2,
   "outputs": [
    {
     "name": "stdout",
     "output_type": "stream",
     "text": [
      "init_data_py :  Total Dishes (5006, 6)\n",
      "init_data_py :  Total Dish Ingredients (28455, 8)\n",
      "init_data_py :  Dish Master (5006, 6)\n",
      "init_data_py :  Dish Ingredients Master (28455, 8)\n",
      "init_data_py :  Training Dish Ids (2758, 1)\n",
      "init_data_py :  Test Dish Ids (507, 1)\n"
     ]
    }
   ],
   "source": [
    "dish, dish_ingredients, test_ids, train_ids = get_dish_data()"
   ],
   "metadata": {
    "collapsed": false,
    "pycharm": {
     "name": "#%%\n"
    }
   }
  },
  {
   "cell_type": "code",
   "execution_count": 3,
   "outputs": [
    {
     "name": "stdout",
     "output_type": "stream",
     "text": [
      "           dish_id               id        name     grams     calories  \\\n",
      "0  dish_1561662216  ingr_0000000508   soy sauce  3.398568   1.80124104   \n",
      "1  dish_1561662216  ingr_0000000122      garlic  2.124105   3.16491645   \n",
      "2  dish_1561662216  ingr_0000000026  white rice  8.496420    11.045346   \n",
      "3  dish_1561662216  ingr_0000000524     parsley  0.213397  0.079170287   \n",
      "4  dish_1561662216  ingr_0000000094      onions  1.707173    0.6828692   \n",
      "\n",
      "           fat         carb      protein  \n",
      "0  0.020391408  0.166529832  0.275284008  \n",
      "1  0.010620525   0.70095465   0.13594272  \n",
      "2   0.02548926    2.3789976   0.22940334  \n",
      "3  0.001707176  0.013657408  0.006188513  \n",
      "4  0.001707173   0.15364557  0.018778903  \n",
      "<class 'pandas.core.frame.DataFrame'>\n",
      "Int64Index: 5006 entries, 0 to 237\n",
      "Data columns (total 6 columns):\n",
      " #   Column          Non-Null Count  Dtype \n",
      "---  ------          --------------  ----- \n",
      " 0   dish_id         5006 non-null   object\n",
      " 1   total_calories  5006 non-null   object\n",
      " 2   total_mass      5006 non-null   object\n",
      " 3   total_fat       5006 non-null   object\n",
      " 4   total_carb      5006 non-null   object\n",
      " 5   total_protein   5006 non-null   object\n",
      "dtypes: object(6)\n",
      "memory usage: 273.8+ KB\n",
      "None\n",
      "------------------------------------------------------------------------------------------------------------------------------------------------------\n",
      "           dish_id               id        name     grams   calories  \\\n",
      "0  dish_1561662216  ingr_0000000508   soy sauce  3.398568   1.801241   \n",
      "1  dish_1561662216  ingr_0000000122      garlic  2.124105   3.164917   \n",
      "2  dish_1561662216  ingr_0000000026  white rice  8.496420  11.045346   \n",
      "3  dish_1561662216  ingr_0000000524     parsley  0.213397   0.079170   \n",
      "4  dish_1561662216  ingr_0000000094      onions  1.707173   0.682869   \n",
      "\n",
      "        fat      carb   protein  \n",
      "0  0.020391  0.166530  0.275284  \n",
      "1  0.010621  0.700955  0.135943  \n",
      "2  0.025489  2.378998  0.229403  \n",
      "3  0.001707  0.013657  0.006189  \n",
      "4  0.001707  0.153646  0.018779  \n",
      "<class 'pandas.core.frame.DataFrame'>\n",
      "Int64Index: 5006 entries, 0 to 237\n",
      "Data columns (total 6 columns):\n",
      " #   Column          Non-Null Count  Dtype  \n",
      "---  ------          --------------  -----  \n",
      " 0   dish_id         5006 non-null   object \n",
      " 1   total_calories  5006 non-null   float32\n",
      " 2   total_mass      5006 non-null   float32\n",
      " 3   total_fat       5006 non-null   float32\n",
      " 4   total_carb      5006 non-null   float32\n",
      " 5   total_protein   5006 non-null   float32\n",
      "dtypes: float32(5), object(1)\n",
      "memory usage: 176.0+ KB\n",
      "None\n",
      "------------------------------------------------------------------------------------------------------------------------------------------------------\n",
      "Available Ids  <class 'pandas.core.frame.DataFrame'>\n",
      "Available Ids +  <class 'pandas.core.frame.DataFrame'>\n"
     ]
    }
   ],
   "source": [
    "print(dish_ingredients.head())\n",
    "\n",
    "print(dish.info())\n",
    "\n",
    "print(\"-----\" * 30)\n",
    "\n",
    "cast_to_float(dish, dish_ingredients)\n",
    "\n",
    "print(dish_ingredients.head())\n"
   ],
   "metadata": {
    "collapsed": false,
    "pycharm": {
     "name": "#%%\n"
    }
   }
  },
  {
   "cell_type": "code",
   "execution_count": 4,
   "outputs": [
    {
     "name": "stdout",
     "output_type": "stream",
     "text": [
      "<class 'pandas.core.frame.DataFrame'>\n",
      "Int64Index: 5006 entries, 0 to 237\n",
      "Data columns (total 6 columns):\n",
      " #   Column          Non-Null Count  Dtype  \n",
      "---  ------          --------------  -----  \n",
      " 0   dish_id         5006 non-null   object \n",
      " 1   total_calories  5006 non-null   float32\n",
      " 2   total_mass      5006 non-null   float32\n",
      " 3   total_fat       5006 non-null   float32\n",
      " 4   total_carb      5006 non-null   float32\n",
      " 5   total_protein   5006 non-null   float32\n",
      "dtypes: float32(5), object(1)\n",
      "memory usage: 176.0+ KB\n",
      "None\n",
      "------------------------------------------------------------------------------------------------------------------------------------------------------\n",
      "Available Ids  <class 'pandas.core.frame.DataFrame'>\n",
      "Available Ids +  <class 'pandas.core.frame.DataFrame'>\n"
     ]
    }
   ],
   "source": [
    "\n",
    "print(dish.info())\n",
    "print(\"-----\" * 30)\n",
    "\n",
    "dish_images = get_rgb_imagepath(dish.dish_id)\n",
    "\n",
    "print(\"Available Ids \",type(train_ids))\n",
    "print(\"Available Ids + \",type(test_ids))"
   ],
   "metadata": {
    "collapsed": false,
    "pycharm": {
     "name": "#%%\n"
    }
   }
  },
  {
   "cell_type": "code",
   "execution_count": 8,
   "outputs": [],
   "source": [
    "merged_ids = pd.concat([train_ids.dish_id,test_ids.dish_id])"
   ],
   "metadata": {
    "collapsed": false,
    "pycharm": {
     "name": "#%%\n"
    }
   }
  },
  {
   "cell_type": "code",
   "execution_count": 9,
   "outputs": [
    {
     "data": {
      "text/plain": "0      dish_1558641037\n1      dish_1562958721\n2      dish_1565799617\n3      dish_1561491210\n4      dish_1561661806\n            ...       \n502    dish_1562172643\n503    dish_1565117463\n504    dish_1561741063\n505    dish_1568401233\n506    dish_1565898432\nName: dish_id, Length: 3265, dtype: object"
     },
     "execution_count": 9,
     "metadata": {},
     "output_type": "execute_result"
    }
   ],
   "source": [
    "merged_ids"
   ],
   "metadata": {
    "collapsed": false,
    "pycharm": {
     "name": "#%%\n"
    }
   }
  },
  {
   "cell_type": "code",
   "execution_count": 11,
   "outputs": [
    {
     "data": {
      "text/plain": "              dish_id  total_calories  total_mass  total_fat  total_carb  \\\n0     dish_1561662216      300.794281       193.0  12.387489   28.218290   \n2     dish_1561662054      419.438782       292.0  23.838249   26.351543   \n3     dish_1562008979      382.936646       290.0  22.224644   10.173570   \n4     dish_1560455030       20.590000       103.0   0.148000    4.625000   \n5     dish_1558372433       74.360001       143.0   0.286000    0.429000   \n...               ...             ...         ...        ...         ...   \n4760  dish_1563295334      228.540009        96.0  17.380001    1.492000   \n4762  dish_1566329234      262.625214       457.0  10.797179   21.224293   \n4765  dish_1562691737      485.676880       700.0  11.722251   70.597321   \n4766  dish_1558458496       53.130001        77.0   0.154000   13.860001   \n4767  dish_1568664931       67.877647        60.0   6.474706    2.107843   \n\n      total_protein  \n0         18.633970  \n2         25.910593  \n3         35.345387  \n4          0.956000  \n5         20.020000  \n...             ...  \n4760      15.540001  \n4762      23.129114  \n4765      27.926394  \n4766       0.539000  \n4767       1.279608  \n\n[3265 rows x 6 columns]",
      "text/html": "<div>\n<style scoped>\n    .dataframe tbody tr th:only-of-type {\n        vertical-align: middle;\n    }\n\n    .dataframe tbody tr th {\n        vertical-align: top;\n    }\n\n    .dataframe thead th {\n        text-align: right;\n    }\n</style>\n<table border=\"1\" class=\"dataframe\">\n  <thead>\n    <tr style=\"text-align: right;\">\n      <th></th>\n      <th>dish_id</th>\n      <th>total_calories</th>\n      <th>total_mass</th>\n      <th>total_fat</th>\n      <th>total_carb</th>\n      <th>total_protein</th>\n    </tr>\n  </thead>\n  <tbody>\n    <tr>\n      <th>0</th>\n      <td>dish_1561662216</td>\n      <td>300.794281</td>\n      <td>193.0</td>\n      <td>12.387489</td>\n      <td>28.218290</td>\n      <td>18.633970</td>\n    </tr>\n    <tr>\n      <th>2</th>\n      <td>dish_1561662054</td>\n      <td>419.438782</td>\n      <td>292.0</td>\n      <td>23.838249</td>\n      <td>26.351543</td>\n      <td>25.910593</td>\n    </tr>\n    <tr>\n      <th>3</th>\n      <td>dish_1562008979</td>\n      <td>382.936646</td>\n      <td>290.0</td>\n      <td>22.224644</td>\n      <td>10.173570</td>\n      <td>35.345387</td>\n    </tr>\n    <tr>\n      <th>4</th>\n      <td>dish_1560455030</td>\n      <td>20.590000</td>\n      <td>103.0</td>\n      <td>0.148000</td>\n      <td>4.625000</td>\n      <td>0.956000</td>\n    </tr>\n    <tr>\n      <th>5</th>\n      <td>dish_1558372433</td>\n      <td>74.360001</td>\n      <td>143.0</td>\n      <td>0.286000</td>\n      <td>0.429000</td>\n      <td>20.020000</td>\n    </tr>\n    <tr>\n      <th>...</th>\n      <td>...</td>\n      <td>...</td>\n      <td>...</td>\n      <td>...</td>\n      <td>...</td>\n      <td>...</td>\n    </tr>\n    <tr>\n      <th>4760</th>\n      <td>dish_1563295334</td>\n      <td>228.540009</td>\n      <td>96.0</td>\n      <td>17.380001</td>\n      <td>1.492000</td>\n      <td>15.540001</td>\n    </tr>\n    <tr>\n      <th>4762</th>\n      <td>dish_1566329234</td>\n      <td>262.625214</td>\n      <td>457.0</td>\n      <td>10.797179</td>\n      <td>21.224293</td>\n      <td>23.129114</td>\n    </tr>\n    <tr>\n      <th>4765</th>\n      <td>dish_1562691737</td>\n      <td>485.676880</td>\n      <td>700.0</td>\n      <td>11.722251</td>\n      <td>70.597321</td>\n      <td>27.926394</td>\n    </tr>\n    <tr>\n      <th>4766</th>\n      <td>dish_1558458496</td>\n      <td>53.130001</td>\n      <td>77.0</td>\n      <td>0.154000</td>\n      <td>13.860001</td>\n      <td>0.539000</td>\n    </tr>\n    <tr>\n      <th>4767</th>\n      <td>dish_1568664931</td>\n      <td>67.877647</td>\n      <td>60.0</td>\n      <td>6.474706</td>\n      <td>2.107843</td>\n      <td>1.279608</td>\n    </tr>\n  </tbody>\n</table>\n<p>3265 rows × 6 columns</p>\n</div>"
     },
     "execution_count": 11,
     "metadata": {},
     "output_type": "execute_result"
    }
   ],
   "source": [
    "dish[dish.dish_id.isin(merged_ids)]"
   ],
   "metadata": {
    "collapsed": false,
    "pycharm": {
     "name": "#%%\n"
    }
   }
  },
  {
   "cell_type": "code",
   "execution_count": 12,
   "outputs": [
    {
     "data": {
      "text/plain": "               dish_id               id            name     grams   calories  \\\n0      dish_1561662216  ingr_0000000508       soy sauce  3.398568   1.801241   \n1      dish_1561662216  ingr_0000000122          garlic  2.124105   3.164917   \n2      dish_1561662216  ingr_0000000026      white rice  8.496420  11.045346   \n3      dish_1561662216  ingr_0000000524         parsley  0.213397   0.079170   \n4      dish_1561662216  ingr_0000000094          onions  1.707173   0.682869   \n...                ...              ...             ...       ...        ...   \n27220  dish_1568664931  ingr_0000000161       olive oil  6.274510  55.466667   \n27221  dish_1568664931  ingr_0000000031       cucumbers  6.274510   0.627451   \n27222  dish_1568664931  ingr_0000000526  mustard greens  7.843138   2.117647   \n27223  dish_1568664931  ingr_0000000122          garlic  0.588235   0.876470   \n27224  dish_1568664931  ingr_0000000291            salt  0.196078   0.000000   \n\n            fat      carb   protein  \n0      0.020391  0.166530  0.275284  \n1      0.010621  0.700955  0.135943  \n2      0.025489  2.378998  0.229403  \n3      0.001707  0.013657  0.006189  \n4      0.001707  0.153646  0.018779  \n...         ...       ...       ...  \n27220  6.274510  0.000000  0.000000  \n27221  0.000000  0.125490  0.062745  \n27222  0.031373  0.368627  0.227451  \n27223  0.002941  0.194118  0.037647  \n27224  0.000000  0.000000  0.000000  \n\n[23859 rows x 8 columns]",
      "text/html": "<div>\n<style scoped>\n    .dataframe tbody tr th:only-of-type {\n        vertical-align: middle;\n    }\n\n    .dataframe tbody tr th {\n        vertical-align: top;\n    }\n\n    .dataframe thead th {\n        text-align: right;\n    }\n</style>\n<table border=\"1\" class=\"dataframe\">\n  <thead>\n    <tr style=\"text-align: right;\">\n      <th></th>\n      <th>dish_id</th>\n      <th>id</th>\n      <th>name</th>\n      <th>grams</th>\n      <th>calories</th>\n      <th>fat</th>\n      <th>carb</th>\n      <th>protein</th>\n    </tr>\n  </thead>\n  <tbody>\n    <tr>\n      <th>0</th>\n      <td>dish_1561662216</td>\n      <td>ingr_0000000508</td>\n      <td>soy sauce</td>\n      <td>3.398568</td>\n      <td>1.801241</td>\n      <td>0.020391</td>\n      <td>0.166530</td>\n      <td>0.275284</td>\n    </tr>\n    <tr>\n      <th>1</th>\n      <td>dish_1561662216</td>\n      <td>ingr_0000000122</td>\n      <td>garlic</td>\n      <td>2.124105</td>\n      <td>3.164917</td>\n      <td>0.010621</td>\n      <td>0.700955</td>\n      <td>0.135943</td>\n    </tr>\n    <tr>\n      <th>2</th>\n      <td>dish_1561662216</td>\n      <td>ingr_0000000026</td>\n      <td>white rice</td>\n      <td>8.496420</td>\n      <td>11.045346</td>\n      <td>0.025489</td>\n      <td>2.378998</td>\n      <td>0.229403</td>\n    </tr>\n    <tr>\n      <th>3</th>\n      <td>dish_1561662216</td>\n      <td>ingr_0000000524</td>\n      <td>parsley</td>\n      <td>0.213397</td>\n      <td>0.079170</td>\n      <td>0.001707</td>\n      <td>0.013657</td>\n      <td>0.006189</td>\n    </tr>\n    <tr>\n      <th>4</th>\n      <td>dish_1561662216</td>\n      <td>ingr_0000000094</td>\n      <td>onions</td>\n      <td>1.707173</td>\n      <td>0.682869</td>\n      <td>0.001707</td>\n      <td>0.153646</td>\n      <td>0.018779</td>\n    </tr>\n    <tr>\n      <th>...</th>\n      <td>...</td>\n      <td>...</td>\n      <td>...</td>\n      <td>...</td>\n      <td>...</td>\n      <td>...</td>\n      <td>...</td>\n      <td>...</td>\n    </tr>\n    <tr>\n      <th>27220</th>\n      <td>dish_1568664931</td>\n      <td>ingr_0000000161</td>\n      <td>olive oil</td>\n      <td>6.274510</td>\n      <td>55.466667</td>\n      <td>6.274510</td>\n      <td>0.000000</td>\n      <td>0.000000</td>\n    </tr>\n    <tr>\n      <th>27221</th>\n      <td>dish_1568664931</td>\n      <td>ingr_0000000031</td>\n      <td>cucumbers</td>\n      <td>6.274510</td>\n      <td>0.627451</td>\n      <td>0.000000</td>\n      <td>0.125490</td>\n      <td>0.062745</td>\n    </tr>\n    <tr>\n      <th>27222</th>\n      <td>dish_1568664931</td>\n      <td>ingr_0000000526</td>\n      <td>mustard greens</td>\n      <td>7.843138</td>\n      <td>2.117647</td>\n      <td>0.031373</td>\n      <td>0.368627</td>\n      <td>0.227451</td>\n    </tr>\n    <tr>\n      <th>27223</th>\n      <td>dish_1568664931</td>\n      <td>ingr_0000000122</td>\n      <td>garlic</td>\n      <td>0.588235</td>\n      <td>0.876470</td>\n      <td>0.002941</td>\n      <td>0.194118</td>\n      <td>0.037647</td>\n    </tr>\n    <tr>\n      <th>27224</th>\n      <td>dish_1568664931</td>\n      <td>ingr_0000000291</td>\n      <td>salt</td>\n      <td>0.196078</td>\n      <td>0.000000</td>\n      <td>0.000000</td>\n      <td>0.000000</td>\n      <td>0.000000</td>\n    </tr>\n  </tbody>\n</table>\n<p>23859 rows × 8 columns</p>\n</div>"
     },
     "execution_count": 12,
     "metadata": {},
     "output_type": "execute_result"
    }
   ],
   "source": [
    "dish_ingredients[dish_ingredients.dish_id.isin(merged_ids)]"
   ],
   "metadata": {
    "collapsed": false,
    "pycharm": {
     "name": "#%%\n"
    }
   }
  },
  {
   "cell_type": "code",
   "execution_count": 14,
   "outputs": [],
   "source": [
    "\n",
    "dish_data = dish[dish.dish_id.isin(merged_ids)]\n",
    "dish_ing_data = dish_ingredients[dish_ingredients.dish_id.isin(merged_ids)]\n"
   ],
   "metadata": {
    "collapsed": false,
    "pycharm": {
     "name": "#%%\n"
    }
   }
  },
  {
   "cell_type": "code",
   "execution_count": 13,
   "outputs": [
    {
     "data": {
      "text/plain": "              dish_id                                         image_path\n0     dish_1561662216  E://nutrition5k_dataset/imagery/realsense_over...\n1     dish_1561662054  E://nutrition5k_dataset/imagery/realsense_over...\n2     dish_1562008979  E://nutrition5k_dataset/imagery/realsense_over...\n3     dish_1560455030  E://nutrition5k_dataset/imagery/realsense_over...\n4     dish_1558372433  E://nutrition5k_dataset/imagery/realsense_over...\n...               ...                                                ...\n3488  dish_1574455483  E://nutrition5k_dataset/imagery/realsense_over...\n3489  dish_1571934465  E://nutrition5k_dataset/imagery/realsense_over...\n3490  dish_1573073666  E://nutrition5k_dataset/imagery/realsense_over...\n3491  dish_1574359199  E://nutrition5k_dataset/imagery/realsense_over...\n3492  dish_1576171157  E://nutrition5k_dataset/imagery/realsense_over...\n\n[3493 rows x 2 columns]",
      "text/html": "<div>\n<style scoped>\n    .dataframe tbody tr th:only-of-type {\n        vertical-align: middle;\n    }\n\n    .dataframe tbody tr th {\n        vertical-align: top;\n    }\n\n    .dataframe thead th {\n        text-align: right;\n    }\n</style>\n<table border=\"1\" class=\"dataframe\">\n  <thead>\n    <tr style=\"text-align: right;\">\n      <th></th>\n      <th>dish_id</th>\n      <th>image_path</th>\n    </tr>\n  </thead>\n  <tbody>\n    <tr>\n      <th>0</th>\n      <td>dish_1561662216</td>\n      <td>E://nutrition5k_dataset/imagery/realsense_over...</td>\n    </tr>\n    <tr>\n      <th>1</th>\n      <td>dish_1561662054</td>\n      <td>E://nutrition5k_dataset/imagery/realsense_over...</td>\n    </tr>\n    <tr>\n      <th>2</th>\n      <td>dish_1562008979</td>\n      <td>E://nutrition5k_dataset/imagery/realsense_over...</td>\n    </tr>\n    <tr>\n      <th>3</th>\n      <td>dish_1560455030</td>\n      <td>E://nutrition5k_dataset/imagery/realsense_over...</td>\n    </tr>\n    <tr>\n      <th>4</th>\n      <td>dish_1558372433</td>\n      <td>E://nutrition5k_dataset/imagery/realsense_over...</td>\n    </tr>\n    <tr>\n      <th>...</th>\n      <td>...</td>\n      <td>...</td>\n    </tr>\n    <tr>\n      <th>3488</th>\n      <td>dish_1574455483</td>\n      <td>E://nutrition5k_dataset/imagery/realsense_over...</td>\n    </tr>\n    <tr>\n      <th>3489</th>\n      <td>dish_1571934465</td>\n      <td>E://nutrition5k_dataset/imagery/realsense_over...</td>\n    </tr>\n    <tr>\n      <th>3490</th>\n      <td>dish_1573073666</td>\n      <td>E://nutrition5k_dataset/imagery/realsense_over...</td>\n    </tr>\n    <tr>\n      <th>3491</th>\n      <td>dish_1574359199</td>\n      <td>E://nutrition5k_dataset/imagery/realsense_over...</td>\n    </tr>\n    <tr>\n      <th>3492</th>\n      <td>dish_1576171157</td>\n      <td>E://nutrition5k_dataset/imagery/realsense_over...</td>\n    </tr>\n  </tbody>\n</table>\n<p>3493 rows × 2 columns</p>\n</div>"
     },
     "execution_count": 13,
     "metadata": {},
     "output_type": "execute_result"
    }
   ],
   "source": [
    "dish_images"
   ],
   "metadata": {
    "collapsed": false,
    "pycharm": {
     "name": "#%%\n"
    }
   }
  },
  {
   "cell_type": "code",
   "execution_count": 16,
   "outputs": [],
   "source": [
    "dish_data = dish_images.merge(dish_data)"
   ],
   "metadata": {
    "collapsed": false,
    "pycharm": {
     "name": "#%%\n"
    }
   }
  },
  {
   "cell_type": "code",
   "execution_count": 17,
   "outputs": [
    {
     "data": {
      "text/plain": "              dish_id                                         image_path  \\\n0     dish_1561662216  E://nutrition5k_dataset/imagery/realsense_over...   \n1     dish_1561662054  E://nutrition5k_dataset/imagery/realsense_over...   \n2     dish_1562008979  E://nutrition5k_dataset/imagery/realsense_over...   \n3     dish_1560455030  E://nutrition5k_dataset/imagery/realsense_over...   \n4     dish_1558372433  E://nutrition5k_dataset/imagery/realsense_over...   \n...               ...                                                ...   \n3260  dish_1563295334  E://nutrition5k_dataset/imagery/realsense_over...   \n3261  dish_1566329234  E://nutrition5k_dataset/imagery/realsense_over...   \n3262  dish_1562691737  E://nutrition5k_dataset/imagery/realsense_over...   \n3263  dish_1558458496  E://nutrition5k_dataset/imagery/realsense_over...   \n3264  dish_1568664931  E://nutrition5k_dataset/imagery/realsense_over...   \n\n      total_calories  total_mass  total_fat  total_carb  total_protein  \n0         300.794281       193.0  12.387489   28.218290      18.633970  \n1         419.438782       292.0  23.838249   26.351543      25.910593  \n2         382.936646       290.0  22.224644   10.173570      35.345387  \n3          20.590000       103.0   0.148000    4.625000       0.956000  \n4          74.360001       143.0   0.286000    0.429000      20.020000  \n...              ...         ...        ...         ...            ...  \n3260      228.540009        96.0  17.380001    1.492000      15.540001  \n3261      262.625214       457.0  10.797179   21.224293      23.129114  \n3262      485.676880       700.0  11.722251   70.597321      27.926394  \n3263       53.130001        77.0   0.154000   13.860001       0.539000  \n3264       67.877647        60.0   6.474706    2.107843       1.279608  \n\n[3265 rows x 7 columns]",
      "text/html": "<div>\n<style scoped>\n    .dataframe tbody tr th:only-of-type {\n        vertical-align: middle;\n    }\n\n    .dataframe tbody tr th {\n        vertical-align: top;\n    }\n\n    .dataframe thead th {\n        text-align: right;\n    }\n</style>\n<table border=\"1\" class=\"dataframe\">\n  <thead>\n    <tr style=\"text-align: right;\">\n      <th></th>\n      <th>dish_id</th>\n      <th>image_path</th>\n      <th>total_calories</th>\n      <th>total_mass</th>\n      <th>total_fat</th>\n      <th>total_carb</th>\n      <th>total_protein</th>\n    </tr>\n  </thead>\n  <tbody>\n    <tr>\n      <th>0</th>\n      <td>dish_1561662216</td>\n      <td>E://nutrition5k_dataset/imagery/realsense_over...</td>\n      <td>300.794281</td>\n      <td>193.0</td>\n      <td>12.387489</td>\n      <td>28.218290</td>\n      <td>18.633970</td>\n    </tr>\n    <tr>\n      <th>1</th>\n      <td>dish_1561662054</td>\n      <td>E://nutrition5k_dataset/imagery/realsense_over...</td>\n      <td>419.438782</td>\n      <td>292.0</td>\n      <td>23.838249</td>\n      <td>26.351543</td>\n      <td>25.910593</td>\n    </tr>\n    <tr>\n      <th>2</th>\n      <td>dish_1562008979</td>\n      <td>E://nutrition5k_dataset/imagery/realsense_over...</td>\n      <td>382.936646</td>\n      <td>290.0</td>\n      <td>22.224644</td>\n      <td>10.173570</td>\n      <td>35.345387</td>\n    </tr>\n    <tr>\n      <th>3</th>\n      <td>dish_1560455030</td>\n      <td>E://nutrition5k_dataset/imagery/realsense_over...</td>\n      <td>20.590000</td>\n      <td>103.0</td>\n      <td>0.148000</td>\n      <td>4.625000</td>\n      <td>0.956000</td>\n    </tr>\n    <tr>\n      <th>4</th>\n      <td>dish_1558372433</td>\n      <td>E://nutrition5k_dataset/imagery/realsense_over...</td>\n      <td>74.360001</td>\n      <td>143.0</td>\n      <td>0.286000</td>\n      <td>0.429000</td>\n      <td>20.020000</td>\n    </tr>\n    <tr>\n      <th>...</th>\n      <td>...</td>\n      <td>...</td>\n      <td>...</td>\n      <td>...</td>\n      <td>...</td>\n      <td>...</td>\n      <td>...</td>\n    </tr>\n    <tr>\n      <th>3260</th>\n      <td>dish_1563295334</td>\n      <td>E://nutrition5k_dataset/imagery/realsense_over...</td>\n      <td>228.540009</td>\n      <td>96.0</td>\n      <td>17.380001</td>\n      <td>1.492000</td>\n      <td>15.540001</td>\n    </tr>\n    <tr>\n      <th>3261</th>\n      <td>dish_1566329234</td>\n      <td>E://nutrition5k_dataset/imagery/realsense_over...</td>\n      <td>262.625214</td>\n      <td>457.0</td>\n      <td>10.797179</td>\n      <td>21.224293</td>\n      <td>23.129114</td>\n    </tr>\n    <tr>\n      <th>3262</th>\n      <td>dish_1562691737</td>\n      <td>E://nutrition5k_dataset/imagery/realsense_over...</td>\n      <td>485.676880</td>\n      <td>700.0</td>\n      <td>11.722251</td>\n      <td>70.597321</td>\n      <td>27.926394</td>\n    </tr>\n    <tr>\n      <th>3263</th>\n      <td>dish_1558458496</td>\n      <td>E://nutrition5k_dataset/imagery/realsense_over...</td>\n      <td>53.130001</td>\n      <td>77.0</td>\n      <td>0.154000</td>\n      <td>13.860001</td>\n      <td>0.539000</td>\n    </tr>\n    <tr>\n      <th>3264</th>\n      <td>dish_1568664931</td>\n      <td>E://nutrition5k_dataset/imagery/realsense_over...</td>\n      <td>67.877647</td>\n      <td>60.0</td>\n      <td>6.474706</td>\n      <td>2.107843</td>\n      <td>1.279608</td>\n    </tr>\n  </tbody>\n</table>\n<p>3265 rows × 7 columns</p>\n</div>"
     },
     "execution_count": 17,
     "metadata": {},
     "output_type": "execute_result"
    }
   ],
   "source": [
    "dish_data"
   ],
   "metadata": {
    "collapsed": false,
    "pycharm": {
     "name": "#%%\n"
    }
   }
  },
  {
   "cell_type": "code",
   "execution_count": null,
   "outputs": [],
   "source": [],
   "metadata": {
    "collapsed": false,
    "pycharm": {
     "name": "#%%\n"
    }
   }
  }
 ],
 "metadata": {
  "kernelspec": {
   "display_name": "Python 3",
   "language": "python",
   "name": "python3"
  },
  "language_info": {
   "codemirror_mode": {
    "name": "ipython",
    "version": 2
   },
   "file_extension": ".py",
   "mimetype": "text/x-python",
   "name": "python",
   "nbconvert_exporter": "python",
   "pygments_lexer": "ipython2",
   "version": "2.7.6"
  }
 },
 "nbformat": 4,
 "nbformat_minor": 0
}